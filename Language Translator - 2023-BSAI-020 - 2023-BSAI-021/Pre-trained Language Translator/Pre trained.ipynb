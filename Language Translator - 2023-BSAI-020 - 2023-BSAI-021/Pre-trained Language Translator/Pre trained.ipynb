{
 "cells": [
  {
   "cell_type": "markdown",
   "id": "47e62b6e-b8dd-4a18-bdaf-572246ec2488",
   "metadata": {},
   "source": [
    "# Pre-Trained Language Translator"
   ]
  },
  {
   "cell_type": "markdown",
   "id": "bebcb315-206d-4c0f-b0a5-b24588bde4c3",
   "metadata": {},
   "source": [
    "This model leverages the Helsinki-NLP/opus-mt pre-trained MarianMTModel from Hugging Face's transformers library for machine translation. It defines a function, translate, which accepts three parameters: text (the input sentence), src_lang (the source language code), and tgt_lang (the target language code). The function loads the appropriate pre-trained MarianMT model based on the provided language codes, tokenizes the input text, and generates a translation. The translated text is then decoded and returned.\n",
    "\n",
    "The script prompts the user to enter the text and language codes and outputs the translated text. Error handling is included to manage any issues during the translation process."
   ]
  },
  {
   "cell_type": "markdown",
   "id": "2b930403-8261-467f-a689-444e039bf22f",
   "metadata": {},
   "source": [
    "## Importing Necessary Libraries"
   ]
  },
  {
   "cell_type": "code",
   "execution_count": 4,
   "id": "d16195f9-811c-4b3b-b743-3f30a5deb0be",
   "metadata": {},
   "outputs": [],
   "source": [
    "from transformers import MarianMTModel, MarianTokenizer"
   ]
  },
  {
   "cell_type": "markdown",
   "id": "acfb0f84-578b-4fe9-a7c4-3d161da7aeb9",
   "metadata": {},
   "source": [
    "## Defining the Translation Function"
   ]
  },
  {
   "cell_type": "code",
   "execution_count": 6,
   "id": "b5176028-d9b8-4142-b19d-ac89dc26bc54",
   "metadata": {},
   "outputs": [],
   "source": [
    "def translate(text, src_lang, tgt_lang):\n",
    "    \"\"\"\n",
    "    Translate text from source language to target language.\n",
    "    \n",
    "    Args:\n",
    "        text (str): The text to translate.\n",
    "        src_lang (str): The source language code (e.g., 'en' for English).\n",
    "        tgt_lang (str): The target language code (e.g., 'fr' for French).\n",
    "\n",
    "    Returns:\n",
    "        str: The translated text.\n",
    "    \"\"\"\n",
    "    # Define the model name based on source and target languages\n",
    "    model_name = f\"Helsinki-NLP/opus-mt-{src_lang}-{tgt_lang}\"\n",
    "\n",
    "    # Load the tokenizer and model\n",
    "    tokenizer = MarianTokenizer.from_pretrained(model_name)\n",
    "    model = MarianMTModel.from_pretrained(model_name)\n",
    "\n",
    "    # Tokenize the input text\n",
    "    inputs = tokenizer(text, return_tensors=\"pt\", padding=True, truncation=True)\n",
    "\n",
    "    # Generate translation\n",
    "    translated = model.generate(**inputs)\n",
    "\n",
    "    # Decode the translation\n",
    "    translated_text = tokenizer.decode(translated[0], skip_special_tokens=True)\n",
    "    return translated_text"
   ]
  },
  {
   "cell_type": "markdown",
   "id": "87335c54-b665-4e6a-a8c8-7c30fed18c39",
   "metadata": {},
   "source": [
    "## Taking User Input for Translation"
   ]
  },
  {
   "cell_type": "code",
   "execution_count": 8,
   "id": "12173dd3-a6b7-4b27-b16d-8e7d2c413c8f",
   "metadata": {},
   "outputs": [
    {
     "name": "stdin",
     "output_type": "stream",
     "text": [
      "Enter the sentence to translate:  i need to talk to you\n",
      "Enter the source language code (e.g., 'en' for English):  en\n",
      "Enter the target language code (e.g., 'fr' for French):  fr\n"
     ]
    }
   ],
   "source": [
    "# Example usage\n",
    "if __name__ == \"__main__\":\n",
    "    # Get user input for the text to translate\n",
    "    source_text = input(\"Enter the sentence to translate: \")\n",
    "    source_lang = input(\"Enter the source language code (e.g., 'en' for English): \")\n",
    "    target_lang = input(\"Enter the target language code (e.g., 'fr' for French): \")"
   ]
  },
  {
   "cell_type": "markdown",
   "id": "35865c22-dc39-43ad-b889-f95e0e95cfa6",
   "metadata": {},
   "source": [
    "## Handling Translation and Displaying Results"
   ]
  },
  {
   "cell_type": "code",
   "execution_count": null,
   "id": "8cd53d7f-0c6e-422f-8b78-3aba54ef7a14",
   "metadata": {},
   "outputs": [],
   "source": [
    "    try:\n",
    "        translated_text = translate(source_text, source_lang, target_lang)\n",
    "        print(f\"Translated Text: {translated_text}\")\n",
    "    except Exception as e:\n",
    "        print(f\"An error occurred: {e}\")"
   ]
  },
  {
   "cell_type": "code",
   "execution_count": null,
   "id": "4f47bec4-994a-445f-aac5-05f650fe28a5",
   "metadata": {},
   "outputs": [],
   "source": []
  },
  {
   "cell_type": "code",
   "execution_count": null,
   "id": "805ddb61-a466-4678-a13b-31882a912aa5",
   "metadata": {},
   "outputs": [],
   "source": []
  }
 ],
 "metadata": {
  "kernelspec": {
   "display_name": "Python 3 (ipykernel)",
   "language": "python",
   "name": "python3"
  },
  "language_info": {
   "codemirror_mode": {
    "name": "ipython",
    "version": 3
   },
   "file_extension": ".py",
   "mimetype": "text/x-python",
   "name": "python",
   "nbconvert_exporter": "python",
   "pygments_lexer": "ipython3",
   "version": "3.12.7"
  }
 },
 "nbformat": 4,
 "nbformat_minor": 5
}
